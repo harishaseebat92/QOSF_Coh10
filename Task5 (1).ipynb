{
 "cells": [
  {
   "cell_type": "code",
   "execution_count": 1,
   "metadata": {
    "colab": {
     "base_uri": "https://localhost:8080/"
    },
    "id": "fGqf1Ki0YNIY",
    "outputId": "0be1c06e-3b38-4459-91ee-7e8bb4126e55"
   },
   "outputs": [
    {
     "name": "stderr",
     "output_type": "stream",
     "text": [
      "Usage: dwave auth login [OPTIONS]\n",
      "Try 'dwave auth login --help' for help.\n",
      "\n",
      "Error: Got unexpected extra arguments (# To login into the dwave leap account)\n"
     ]
    }
   ],
   "source": [
    "!dwave auth login # To login into the dwave leap account"
   ]
  },
  {
   "cell_type": "code",
   "execution_count": 2,
   "metadata": {
    "colab": {
     "base_uri": "https://localhost:8080/"
    },
    "id": "tzNjy_gDYVmE",
    "outputId": "b0c581ac-3fe6-46be-b7f8-ecbe131b5845"
   },
   "outputs": [
    {
     "name": "stderr",
     "output_type": "stream",
     "text": [
      "Usage: dwave config create [OPTIONS]\n",
      "Try 'dwave config create --help' for help.\n",
      "\n",
      "Error: Got unexpected extra arguments (# To configure your account with solver)\n"
     ]
    }
   ],
   "source": [
    "!dwave config create # To configure your account with solver"
   ]
  },
  {
   "cell_type": "code",
   "execution_count": 3,
   "metadata": {
    "colab": {
     "base_uri": "https://localhost:8080/"
    },
    "id": "VFs1tIsZYbml",
    "outputId": "9bca5629-f7fc-4836-c8a5-144292b54258"
   },
   "outputs": [
    {
     "name": "stderr",
     "output_type": "stream",
     "text": [
      "Usage: dwave ping [OPTIONS]\n",
      "Try 'dwave ping --help' for help.\n",
      "\n",
      "Error: Got unexpected extra arguments (# To call your qpu availibilty from Dwave-leap account)\n"
     ]
    }
   ],
   "source": [
    "!dwave ping --client qpu # To call your qpu availibilty from Dwave-leap account"
   ]
  },
  {
   "cell_type": "code",
   "execution_count": 4,
   "metadata": {
    "id": "DQES7SvfytkM"
   },
   "outputs": [],
   "source": [
    "from docplex.mp.model import Model\n",
    "import pennylane as qml\n",
    "import numpy as np\n",
    "import matplotlib.pyplot as plt\n",
    "from qiskit_optimization.converters import QuadraticProgramToQubo\n",
    "# from qiskit import BasicAer\n",
    "# from qiskit.algorithms import QAOA, NumPyMinimumEigensolver\n",
    "from qiskit_optimization.algorithms import CplexOptimizer, MinimumEigenOptimizer\n",
    "from qiskit_optimization.algorithms.admm_optimizer import ADMMParameters, ADMMOptimizer\n",
    "from qiskit_optimization import QuadraticProgram\n",
    "from qiskit_optimization.translators import from_docplex_mp\n",
    "from qiskit_optimization.converters import InequalityToEquality, IntegerToBinary, LinearEqualityToPenalty\n",
    "from qiskit_optimization.applications import BinPacking, Tsp\n",
    "from brute_force_bpp import *\n",
    "from qiskit_algorithms import SamplingVQE, NumPyMinimumEigensolver\n"
   ]
  },
  {
   "cell_type": "code",
   "execution_count": 5,
   "metadata": {
    "id": "E4PWIe84EdDr"
   },
   "outputs": [],
   "source": [
    "def data_bins(result, weights, n, m, C, simplify=False):\n",
    "    \"\"\"\n",
    "    Organizes the results of the ILP Bin Packing optimization into bins.\n",
    "\n",
    "    Parameters:\n",
    "    result (OptimizationResult): Optimization result from the solver.\n",
    "    weights (list): Weights of each item.\n",
    "    n (int): Number of items.\n",
    "    m (int): Maximum possible number of bins.\n",
    "    C (int): Capacity of each bin.\n",
    "    simplify (bool): Flag to simplify the output (optional).\n",
    "\n",
    "    Returns:\n",
    "    dict: Dictionary with keys \"bins\", \"items\", and \"index\" for bin data.\n",
    "    \"\"\"\n",
    "    # Extract variables dictionary from the result\n",
    "    variables_dict = result.variables_dict\n",
    "\n",
    "    # Initialize arrays for decision variables\n",
    "    x_vars = np.zeros((m, n))\n",
    "    y_vars = np.zeros(m)\n",
    "\n",
    "    # Retrieve values from the variables dictionary\n",
    "    for j in range(m):\n",
    "        y_vars[j] = variables_dict.get(f\"y_{j}\", 0)  # Bin j status\n",
    "        for i in range(n):\n",
    "            x_vars[j, i] = variables_dict.get(f\"x_{i}_{j}\", 0)  # Item i in bin j\n",
    "\n",
    "    # Calculate the weight of items in each bin\n",
    "    items = x_vars * weights\n",
    "    bins = y_vars\n",
    "\n",
    "    return {\"bins\": bins, \"items\": items, \"index\": np.arange(m)}\n",
    "\n",
    "def plot_bins(result, weights, n, m, C, simplify=False):\n",
    "    \"\"\"\n",
    "    Plots the results of the ILP Bin Packing solution in a bar diagram.\n",
    "\n",
    "    Parameters:\n",
    "    result (OptimizationResult): Optimization result from the solver.\n",
    "    weights (list): Weights of each item.\n",
    "    n (int): Number of items.\n",
    "    m (int): Maximum possible number of bins.\n",
    "    C (int): Capacity of each bin.\n",
    "    simplify (bool): Flag to simplify the plot (optional).\n",
    "    \"\"\"\n",
    "    res = data_bins(result, weights, n, m, C, simplify)\n",
    "    plt.figure(figsize=(10, 6))\n",
    "\n",
    "    # Bin index and initial bar for first item\n",
    "    ind = res[\"index\"]\n",
    "    plt.bar(ind, res[\"items\"][:, 0], label=f\"item 0\")\n",
    "    suma = res[\"items\"][:, 0]  # Initialize bottom for stacking bars\n",
    "\n",
    "    # Stack items in each bin\n",
    "    for j in range(1, n):\n",
    "        plt.bar(ind, res[\"items\"][:, j], bottom=suma, label=f\"item {j}\")\n",
    "        suma += res[\"items\"][:, j]\n",
    "\n",
    "    # Add a line for the bin capacity\n",
    "    plt.hlines(C, -0.5, m - 0.5, linestyle=\"--\", color=\"r\", label=\"Max Capacity (C)\")\n",
    "\n",
    "    plt.xticks(ind)\n",
    "    plt.xlabel(\"Bin\")\n",
    "    plt.ylabel(\"Weight\")\n",
    "    plt.legend()\n",
    "    plt.title(\"Bin Packing Solution\")\n",
    "    plt.show()\n"
   ]
  },
  {
   "cell_type": "markdown",
   "metadata": {
    "id": "EhBN4IWGytkP"
   },
   "source": [
    "## Formulation\n",
    "\n",
    "The **Bin Packing Problem (BPP)** is a classic optimization problem where we are given a set of items with specific weights and bins with a fixed capacity. The goal is to pack all items into the minimum number of bins without exceeding the capacity of any bin.\n",
    "\n",
    "### Problem Definition\n",
    "\n",
    "- Given $n$ items with weights $w_1, w_2, \\ldots, w_n$ and bin capacity $C$.\n",
    "- Minimize the number of bins used.\n",
    "\n",
    "### ILP Formulation\n",
    "\n",
    "**Decision Variables:**\n",
    "- $x_{ij}$: 1 if item $i$ is in bin $j$, 0 otherwise.\n",
    "- $y_j$: 1 if bin $j$ is used, 0 otherwise.\n",
    "\n",
    "**Objective Function:**\n",
    "$$\n",
    "\\text{Minimize } \\sum_{j=1}^{m} y_j\n",
    "$$\n",
    "where $m$ is an upper bound on the number of bins.\n",
    "\n",
    "**Constraints:**\n",
    "1. Each item must be assigned to exactly one bin:\n",
    "   $$\n",
    "   \\sum_{j=1}^{m} x_{ij} = 1, \\quad \\forall i \\in \\{1, 2, \\ldots, n\\}\n",
    "   $$\n",
    "2. The total weight in each bin cannot exceed its capacity:\n",
    "   $$\n",
    "   \\sum_{i=1}^{n} w_i x_{ij} \\leq C y_j, \\quad \\forall j \\in \\{1, 2, \\ldots, m\\}\n",
    "   $$\n",
    "3. Binary constraints:\n",
    "   $$\n",
    "   x_{ij} \\in \\{0, 1\\}, \\quad y_j \\in \\{0, 1\\}\n",
    "   $$\n",
    "\n",
    "### Explanation of Terms\n",
    "- **Objective Function**: Represents the total number of bins used.\n",
    "- **Constraint 1**: Ensures each item is placed in exactly one bin.\n",
    "- **Constraint 2**: Ensures the weight in each bin does not exceed $C$.\n",
    "- **Binary Constraints**: Ensure $x_{ij}$ and $y_j$ are binary variables.\n"
   ]
  },
  {
   "cell_type": "code",
   "execution_count": 6,
   "metadata": {
    "id": "L-wLWdeKytkQ"
   },
   "outputs": [],
   "source": [
    "\n",
    "def bpp_to_ilp(weights, C):\n",
    "    # Initialize model\n",
    "    model = Model(name=\"Bin Packing Problem\")\n",
    "    n = len(weights)\n",
    "    m = min_bins(weights, C)\n",
    "    # Decision Variables\n",
    "    # x[i, j] = 1 if item i is placed in bin j, 0 otherwise\n",
    "    x = {(i, j): model.binary_var(name=f\"x_{i}_{j}\") for i in range(n) for j in range(m)}\n",
    "\n",
    "    # y[j] = 1 if bin j is used, 0 otherwise\n",
    "    y = {j: model.binary_var(name=f\"y_{j}\") for j in range(m)}\n",
    "    # Constraints\n",
    "\n",
    "    # 1. Each item must be assigned to exactly one bin\n",
    "    for i in range(n):\n",
    "        model.add_constraint(model.sum(x[i, j] for j in range(m)) == 1, ctname=f\"assign_item_{i}\")\n",
    "\n",
    "    # 2. Total weight in each bin cannot exceed bin capacity\n",
    "    for j in range(m):\n",
    "        model.add_constraint(model.sum(weights[i] * x[i, j] for i in range(n)) <= C * y[j], ctname=f\"capacity_bin_{j}\")\n",
    "\n",
    "    # Objective: Minimize the number of bins used\n",
    "    model.minimize(model.sum(y[j] for j in range(m)))\n",
    "    \n",
    "    return model\n"
   ]
  },
  {
   "cell_type": "code",
   "execution_count": 7,
   "metadata": {
    "id": "g0k4hlDrytkQ"
   },
   "outputs": [],
   "source": [
    "weights = [2,3,1,3]\n",
    "C = 5\n",
    "mod = bpp_to_ilp(weights, C)"
   ]
  },
  {
   "cell_type": "code",
   "execution_count": 8,
   "metadata": {
    "colab": {
     "base_uri": "https://localhost:8080/",
     "height": 801
    },
    "id": "HeQt68MQytkQ",
    "outputId": "635907cc-242c-457d-ab99-5c5269714796"
   },
   "outputs": [
    {
     "ename": "NameError",
     "evalue": "name 'model' is not defined",
     "output_type": "error",
     "traceback": [
      "\u001b[1;31m---------------------------------------------------------------------------\u001b[0m",
      "\u001b[1;31mNameError\u001b[0m                                 Traceback (most recent call last)",
      "Cell \u001b[1;32mIn[8], line 1\u001b[0m\n\u001b[1;32m----> 1\u001b[0m mod \u001b[38;5;241m=\u001b[39m from_docplex_mp(\u001b[43mmodel\u001b[49m)\n\u001b[0;32m      2\u001b[0m \u001b[38;5;66;03m# Solving Quadratic Program using CPLEX\u001b[39;00m\n\u001b[0;32m      3\u001b[0m cplex \u001b[38;5;241m=\u001b[39m CplexOptimizer()\n",
      "\u001b[1;31mNameError\u001b[0m: name 'model' is not defined"
     ]
    }
   ],
   "source": [
    "mod = from_docplex_mp(model)\n",
    "# Solving Quadratic Program using CPLEX\n",
    "cplex = CplexOptimizer()\n",
    "result = cplex.solve(mod)\n",
    "print(result)\n",
    "plot_bins(result, weights, n, m, C)\n",
    "result.variables_dict\n"
   ]
  },
  {
   "cell_type": "markdown",
   "metadata": {
    "id": "yHB994oZ5zHT"
   },
   "source": [
    "### Objective Function\n",
    "\n",
    "Minimize:\n",
    "\n",
    "$$\n",
    "\\sum_{i=1}^{m} y_i + \\alpha \\left[ - \\sum_{i=1}^{m} \\left( C y_i - \\sum_{j=1}^{n} w_j x_{ij} \\right) + \\left( \\sum_{i=1}^{m} \\left( C y_i - \\sum_{j=1}^{n} w_j x_{ij} \\right) \\right)^2 \\right]\n",
    "$$\n",
    "\n",
    "Where:\n",
    "- $y_i$ is a binary variable indicating whether bin $i$ is used (1) or not (0).\n",
    "- $x_{ij}$ is a binary variable indicating whether item $j$ is assigned to bin $i$.\n",
    "\n",
    "### Subject to:\n",
    "\n",
    "#### 1. Assignment Constraint:\n",
    "Each item must be assigned to exactly one bin:\n",
    "\n",
    "$$\n",
    "\\sum_{i=1}^{m} x_{ij} = 1 \\quad \\forall j = 1, \\dots, n\n",
    "$$\n",
    "\n",
    "#### 2. Capacity Constraint:\n",
    "The total weight in each bin cannot exceed its capacity if the bin is used:\n",
    "\n",
    "$$\n",
    "\\sum_{j=1}^{n} w_j x_{ij} \\leq C y_i \\quad \\forall i = 1, \\dots, m\n",
    "$$\n",
    "\n",
    "#### 3. Binary Constraints:\n",
    "\n",
    "For the assignment variables:\n",
    "\n",
    "$$\n",
    "x_{ij} \\in \\{0, 1\\} \\quad \\forall i = 1, \\dots, m \\quad \\text{and} \\quad j = 1, \\dots, n\n",
    "$$\n",
    "\n",
    "For the bin usage variables:\n",
    "\n",
    "$$\n",
    "y_i \\in \\{0, 1\\} \\quad \\forall i = 1, \\dots, m\n",
    "$$\n"
   ]
  },
  {
   "cell_type": "code",
   "execution_count": null,
   "metadata": {},
   "outputs": [],
   "source": [
    "def ilp_to_qubo(docplex_model):\n",
    "    \"\"\"\n",
    "    Converts a given ILP Docplex model to a QUBO model.\n",
    "\n",
    "    Parameters:\n",
    "    docplex_model: Model\n",
    "        A Docplex model representing an ILP problem.\n",
    "\n",
    "    Returns:\n",
    "    qubo: Quadratic \"\"\"\n",
    "\n",
    "    qp = from_docplex_mp(docplex_model)\n",
    "    qp2qubo = QuadraticProgramToQubo()\n",
    "    qubo = qp2qubo.convert(qp)\n",
    "    # print(qubo.prettyprint())\n",
    "    return qubo"
   ]
  },
  {
   "cell_type": "code",
   "execution_count": null,
   "metadata": {
    "colab": {
     "base_uri": "https://localhost:8080/"
    },
    "id": "5xJ2fFTp9dD7",
    "outputId": "22ff7aa8-38b3-4ddd-c1fc-6ae80134c9b9"
   },
   "outputs": [
    {
     "data": {
      "text/plain": [
       "16"
      ]
     },
     "execution_count": 19,
     "metadata": {},
     "output_type": "execute_result"
    }
   ],
   "source": [
    "qresult = ilp_to_qubo(mod)\n",
    "\n",
    "qresult.get_num_binary_vars()"
   ]
  },
  {
   "cell_type": "code",
   "execution_count": null,
   "metadata": {
    "colab": {
     "base_uri": "https://localhost:8080/",
     "height": 183
    },
    "id": "FzMvQPoyHziL",
    "outputId": "a89d5ce4-ad1e-46c0-9582-5a73e47983e1"
   },
   "outputs": [
    {
     "ename": "ValueError",
     "evalue": "API token not defined",
     "output_type": "error",
     "traceback": [
      "\u001b[1;31m---------------------------------------------------------------------------\u001b[0m",
      "\u001b[1;31mValueError\u001b[0m                                Traceback (most recent call last)",
      "Cell \u001b[1;32mIn[16], line 41\u001b[0m\n\u001b[0;32m     34\u001b[0m     \u001b[38;5;28;01mreturn\u001b[39;00m best_solution, best_energy\n\u001b[0;32m     36\u001b[0m \u001b[38;5;66;03m# Example usage:\u001b[39;00m\n\u001b[0;32m     37\u001b[0m \u001b[38;5;66;03m# docplex_model = # Define your ILP model using docplex here\u001b[39;00m\n\u001b[0;32m     38\u001b[0m \u001b[38;5;66;03m# qubo_model = ilp_to_qubo(docplex_model)\u001b[39;00m\n\u001b[0;32m     39\u001b[0m \u001b[38;5;66;03m# best_solution, best_energy = solve_qubo_on_dwave(qubo_model)\u001b[39;00m\n\u001b[1;32m---> 41\u001b[0m \u001b[43msolve_qubo_on_dwave\u001b[49m\u001b[43m(\u001b[49m\u001b[43mqresult\u001b[49m\u001b[43m)\u001b[49m\n",
      "Cell \u001b[1;32mIn[16], line 22\u001b[0m, in \u001b[0;36msolve_qubo_on_dwave\u001b[1;34m(qubo)\u001b[0m\n\u001b[0;32m     19\u001b[0m qubo_dict \u001b[38;5;241m=\u001b[39m qubo\u001b[38;5;241m.\u001b[39mto_ising()[\u001b[38;5;241m0\u001b[39m]\n\u001b[0;32m     21\u001b[0m \u001b[38;5;66;03m# Define the sampler with an embedding to handle larger problems\u001b[39;00m\n\u001b[1;32m---> 22\u001b[0m sampler \u001b[38;5;241m=\u001b[39m EmbeddingComposite(\u001b[43mDWaveSampler\u001b[49m\u001b[43m(\u001b[49m\u001b[43m)\u001b[49m)\n\u001b[0;32m     24\u001b[0m \u001b[38;5;66;03m# Run the sampler on the QUBO model\u001b[39;00m\n\u001b[0;32m     25\u001b[0m sampleset \u001b[38;5;241m=\u001b[39m sampler\u001b[38;5;241m.\u001b[39msample_qubo(qubo_dict, num_reads\u001b[38;5;241m=\u001b[39m\u001b[38;5;241m100\u001b[39m)\n",
      "File \u001b[1;32mc:\\Users\\DELL\\anaconda3\\envs\\qiskit\\Lib\\site-packages\\dwave\\system\\samplers\\dwave_sampler.py:180\u001b[0m, in \u001b[0;36mDWaveSampler.__init__\u001b[1;34m(self, failover, retry_interval, **config)\u001b[0m\n\u001b[0;32m    177\u001b[0m \u001b[38;5;28mself\u001b[39m\u001b[38;5;241m.\u001b[39mretry_interval \u001b[38;5;241m=\u001b[39m retry_interval\n\u001b[0;32m    178\u001b[0m \u001b[38;5;28mself\u001b[39m\u001b[38;5;241m.\u001b[39m_solver_penalty \u001b[38;5;241m=\u001b[39m defaultdict(\u001b[38;5;28mint\u001b[39m)\n\u001b[1;32m--> 180\u001b[0m \u001b[38;5;28mself\u001b[39m\u001b[38;5;241m.\u001b[39mclient \u001b[38;5;241m=\u001b[39m \u001b[43mClient\u001b[49m\u001b[38;5;241;43m.\u001b[39;49m\u001b[43mfrom_config\u001b[49m\u001b[43m(\u001b[49m\u001b[38;5;241;43m*\u001b[39;49m\u001b[38;5;241;43m*\u001b[39;49m\u001b[43mconfig\u001b[49m\u001b[43m)\u001b[49m\n\u001b[0;32m    181\u001b[0m \u001b[38;5;28mself\u001b[39m\u001b[38;5;241m.\u001b[39msolver \u001b[38;5;241m=\u001b[39m \u001b[38;5;28mself\u001b[39m\u001b[38;5;241m.\u001b[39m_get_solver(penalty\u001b[38;5;241m=\u001b[39m\u001b[38;5;28mself\u001b[39m\u001b[38;5;241m.\u001b[39m_solver_penalty)\n",
      "File \u001b[1;32mc:\\Users\\DELL\\anaconda3\\envs\\qiskit\\Lib\\site-packages\\dwave\\cloud\\client\\base.py:436\u001b[0m, in \u001b[0;36mClient.from_config\u001b[1;34m(cls, config_file, profile, client, **kwargs)\u001b[0m\n\u001b[0;32m    433\u001b[0m _client \u001b[38;5;241m=\u001b[39m config\u001b[38;5;241m.\u001b[39mpop(\u001b[38;5;124m'\u001b[39m\u001b[38;5;124mclient\u001b[39m\u001b[38;5;124m'\u001b[39m, \u001b[38;5;28;01mNone\u001b[39;00m) \u001b[38;5;129;01mor\u001b[39;00m \u001b[38;5;124m'\u001b[39m\u001b[38;5;124mbase\u001b[39m\u001b[38;5;124m'\u001b[39m\n\u001b[0;32m    435\u001b[0m logger\u001b[38;5;241m.\u001b[39mdebug(\u001b[38;5;124m\"\u001b[39m\u001b[38;5;124mCreating \u001b[39m\u001b[38;5;132;01m%s\u001b[39;00m\u001b[38;5;124m.Client() with: \u001b[39m\u001b[38;5;132;01m%r\u001b[39;00m\u001b[38;5;124m\"\u001b[39m, _client, config)\n\u001b[1;32m--> 436\u001b[0m \u001b[38;5;28;01mreturn\u001b[39;00m \u001b[43m_clients\u001b[49m\u001b[43m[\u001b[49m\u001b[43m_client\u001b[49m\u001b[43m]\u001b[49m\u001b[43m(\u001b[49m\u001b[38;5;241;43m*\u001b[39;49m\u001b[38;5;241;43m*\u001b[39;49m\u001b[43mconfig\u001b[49m\u001b[43m)\u001b[49m\n",
      "File \u001b[1;32mc:\\Users\\DELL\\anaconda3\\envs\\qiskit\\Lib\\site-packages\\dwave\\cloud\\events.py:109\u001b[0m, in \u001b[0;36mdispatches_events.__call__.<locals>.wrapped\u001b[1;34m(*pargs, **kwargs)\u001b[0m\n\u001b[0;32m    104\u001b[0m \u001b[38;5;129m@wraps\u001b[39m(fn)\n\u001b[0;32m    105\u001b[0m \u001b[38;5;28;01mdef\u001b[39;00m \u001b[38;5;21mwrapped\u001b[39m(\u001b[38;5;241m*\u001b[39mpargs, \u001b[38;5;241m*\u001b[39m\u001b[38;5;241m*\u001b[39mkwargs):\n\u001b[0;32m    106\u001b[0m     \u001b[38;5;28;01mif\u001b[39;00m \u001b[38;5;129;01mnot\u001b[39;00m (has_handler(\u001b[38;5;28mself\u001b[39m\u001b[38;5;241m.\u001b[39mbefore_eventname) \u001b[38;5;129;01mor\u001b[39;00m\n\u001b[0;32m    107\u001b[0m             has_handler(\u001b[38;5;28mself\u001b[39m\u001b[38;5;241m.\u001b[39mafter_eventname)):\n\u001b[0;32m    108\u001b[0m         \u001b[38;5;66;03m# skip dispatch altogether\u001b[39;00m\n\u001b[1;32m--> 109\u001b[0m         \u001b[38;5;28;01mreturn\u001b[39;00m \u001b[43mfn\u001b[49m\u001b[43m(\u001b[49m\u001b[38;5;241;43m*\u001b[39;49m\u001b[43mpargs\u001b[49m\u001b[43m,\u001b[49m\u001b[43m \u001b[49m\u001b[38;5;241;43m*\u001b[39;49m\u001b[38;5;241;43m*\u001b[39;49m\u001b[43mkwargs\u001b[49m\u001b[43m)\u001b[49m\n\u001b[0;32m    111\u001b[0m     sig \u001b[38;5;241m=\u001b[39m inspect\u001b[38;5;241m.\u001b[39msignature(fn)\n\u001b[0;32m    112\u001b[0m     bound \u001b[38;5;241m=\u001b[39m sig\u001b[38;5;241m.\u001b[39mbind(\u001b[38;5;241m*\u001b[39mpargs, \u001b[38;5;241m*\u001b[39m\u001b[38;5;241m*\u001b[39mkwargs)\n",
      "File \u001b[1;32mc:\\Users\\DELL\\anaconda3\\envs\\qiskit\\Lib\\site-packages\\dwave\\cloud\\client\\base.py:467\u001b[0m, in \u001b[0;36mClient.__init__\u001b[1;34m(self, **kwargs)\u001b[0m\n\u001b[0;32m    464\u001b[0m     \u001b[38;5;28;01mraise\u001b[39;00m \u001b[38;5;167;01mValueError\u001b[39;00m(\u001b[38;5;124m\"\u001b[39m\u001b[38;5;124mAPI endpoint not defined\u001b[39m\u001b[38;5;124m\"\u001b[39m)\n\u001b[0;32m    466\u001b[0m \u001b[38;5;28;01mif\u001b[39;00m \u001b[38;5;129;01mnot\u001b[39;00m \u001b[38;5;28mself\u001b[39m\u001b[38;5;241m.\u001b[39mconfig\u001b[38;5;241m.\u001b[39mtoken:\n\u001b[1;32m--> 467\u001b[0m     \u001b[38;5;28;01mraise\u001b[39;00m \u001b[38;5;167;01mValueError\u001b[39;00m(\u001b[38;5;124m\"\u001b[39m\u001b[38;5;124mAPI token not defined\u001b[39m\u001b[38;5;124m\"\u001b[39m)\n\u001b[0;32m    469\u001b[0m \u001b[38;5;66;03m# Create session for main thread only\u001b[39;00m\n\u001b[0;32m    470\u001b[0m \u001b[38;5;28mself\u001b[39m\u001b[38;5;241m.\u001b[39msession \u001b[38;5;241m=\u001b[39m \u001b[38;5;28mself\u001b[39m\u001b[38;5;241m.\u001b[39mcreate_session()\n",
      "\u001b[1;31mValueError\u001b[0m: API token not defined"
     ]
    }
   ],
   "source": [
    "from dwave.system import DWaveSampler, EmbeddingComposite\n",
    "from qiskit_optimization.algorithms import MinimumEigenOptimizer\n",
    "from qiskit_optimization.converters import QuadraticProgramToQubo\n",
    "from qiskit_optimization.translators import from_docplex_mp\n",
    "\n",
    "def solve_qubo_on_dwave(qubo):\n",
    "    \"\"\"\n",
    "    Solves the QUBO on D-Wave's quantum annealer.\n",
    "\n",
    "    Parameters:\n",
    "    qubo: QuadraticProgram\n",
    "        The QUBO problem generated by ilp_to_qubo.\n",
    "\n",
    "    Returns:\n",
    "    result: dict\n",
    "        The solution from D-Wave's quantum annealer.\n",
    "    \"\"\"\n",
    "    # Convert the QUBO to a format compatible with D-Wave\n",
    "    qubo_dict = qubo.to_ising()[0]\n",
    "\n",
    "    # Define the sampler with an embedding to handle larger problems\n",
    "    sampler = EmbeddingComposite(DWaveSampler())\n",
    "\n",
    "    # Run the sampler on the QUBO model\n",
    "    sampleset = sampler.sample_qubo(qubo_dict, num_reads=100)\n",
    "\n",
    "    # Extract the best solution\n",
    "    best_solution = sampleset.first.sample\n",
    "    best_energy = sampleset.first.energy\n",
    "\n",
    "    print(\"Best Solution:\", best_solution)\n",
    "    print(\"Energy:\", best_energy)\n",
    "\n",
    "    return best_solution, best_energy\n",
    "\n",
    "# Example usage:\n",
    "# docplex_model = # Define your ILP model using docplex here\n",
    "# qubo_model = ilp_to_qubo(docplex_model)\n",
    "# best_solution, best_energy = solve_qubo_on_dwave(qubo_model)\n",
    "\n",
    "solve_qubo_on_dwave(qresult)"
   ]
  },
  {
   "cell_type": "code",
   "execution_count": null,
   "metadata": {
    "id": "sulfeKeaMjUc"
   },
   "outputs": [
    {
     "ename": "",
     "evalue": "",
     "output_type": "error",
     "traceback": [
      "\u001b[1;31mnotebook controller is DISPOSED. \n",
      "\u001b[1;31mView Jupyter <a href='command:jupyter.viewOutput'>log</a> for further details."
     ]
    }
   ],
   "source": [
    "result1 = cplex.solve(qresult)\n",
    "print(result1)\n"
   ]
  },
  {
   "cell_type": "code",
   "execution_count": null,
   "metadata": {},
   "outputs": [
    {
     "data": {
      "text/plain": [
       "(array([[0, 0, 1],\n",
       "        [0, 0, 1],\n",
       "        [0, 1, 0],\n",
       "        [0, 1, 0],\n",
       "        [1, 0, 0]]),\n",
       " 3)"
      ]
     },
     "execution_count": 20,
     "metadata": {},
     "output_type": "execute_result"
    }
   ],
   "source": [
    "from brute_force_bpp import *\n",
    "\n",
    "weights = [3, 2, 3, 2, 1]  # Weights of 4 items\n",
    "C =  max(weights) +2 # Bin capacity\n",
    "brute_force(weights, C)"
   ]
  },
  {
   "cell_type": "code",
   "execution_count": null,
   "metadata": {},
   "outputs": [
    {
     "ename": "",
     "evalue": "",
     "output_type": "error",
     "traceback": [
      "\u001b[1;31mThe Kernel crashed while executing code in the current cell or a previous cell. \n",
      "\u001b[1;31mPlease review the code in the cell(s) to identify a possible cause of the failure. \n",
      "\u001b[1;31mClick <a href='https://aka.ms/vscodeJupyterKernelCrash'>here</a> for more info. \n",
      "\u001b[1;31mView Jupyter <a href='command:jupyter.viewOutput'>log</a> for further details."
     ]
    }
   ],
   "source": [
    "weights = [3, 2, 3, 2, 1]  # Weights of 4 items\n",
    "C =  max(weights) + 2 # Bin capacityfrom qiskit_algorithms import SamplingVQE, NumPyMinimumEigensolver\n",
    "\n",
    "\n",
    "# my model \n",
    "mod1 = bpp_to_ilp(weights, C)\n",
    "\n",
    "mod1 = ilp_to_qubo(mod1)\n",
    "\n",
    "\n",
    "# qubo = qp2qubo.convert(mod1)\n",
    "qubitOp, offset = mod1.to_ising()\n",
    "qubitOp\n",
    "\n",
    "exact = MinimumEigenOptimizer(NumPyMinimumEigensolver())\n",
    "result = exact.solve(mod1)\n",
    "print(result.prettyprint())\n"
   ]
  },
  {
   "cell_type": "code",
   "execution_count": null,
   "metadata": {},
   "outputs": [],
   "source": []
  },
  {
   "cell_type": "code",
   "execution_count": null,
   "metadata": {},
   "outputs": [
    {
     "data": {
      "text/plain": [
       "12"
      ]
     },
     "execution_count": 23,
     "metadata": {},
     "output_type": "execute_result"
    }
   ],
   "source": [
    "num_wires = qubitOp.num_qubits\n",
    "wires = list(range(num_wires))\n",
    "# H_matrix = qubitOp.to_matrix()\n",
    "num_wires\n",
    "# H = qml.Hermitian(H_matrix, wires=wires)\n",
    "# qp.prettyprint()\n",
    "# print(\"Offset:\", offset)\n",
    "\n",
    "# min(qml.eigvals(H))\n",
    "\n"
   ]
  },
  {
   "cell_type": "markdown",
   "metadata": {},
   "source": [
    "### VQA Approach"
   ]
  },
  {
   "cell_type": "code",
   "execution_count": null,
   "metadata": {},
   "outputs": [
    {
     "ename": "QiskitOptimizationError",
     "evalue": "'There must be no constraint in the problem. You can use `QuadraticProgramToQubo` converter to convert constraints to penalty terms of the objective function.'",
     "output_type": "error",
     "traceback": [
      "\u001b[1;31m---------------------------------------------------------------------------\u001b[0m",
      "\u001b[1;31mQiskitOptimizationError\u001b[0m                   Traceback (most recent call last)",
      "Cell \u001b[1;32mIn[41], line 4\u001b[0m\n\u001b[0;32m      1\u001b[0m qp \u001b[38;5;241m=\u001b[39m from_docplex_mp(mod)\n\u001b[0;32m      3\u001b[0m \u001b[38;5;66;03m# qp.prettyprint()\u001b[39;00m\n\u001b[1;32m----> 4\u001b[0m qubitOp, offset \u001b[38;5;241m=\u001b[39m \u001b[43mqp\u001b[49m\u001b[38;5;241;43m.\u001b[39;49m\u001b[43mto_ising\u001b[49m\u001b[43m(\u001b[49m\u001b[43m)\u001b[49m\n",
      "File \u001b[1;32mc:\\Users\\DELL\\anaconda3\\envs\\qiskit\\Lib\\site-packages\\qiskit_optimization\\problems\\quadratic_program.py:1029\u001b[0m, in \u001b[0;36mQuadraticProgram.to_ising\u001b[1;34m(self)\u001b[0m\n\u001b[0;32m   1026\u001b[0m \u001b[38;5;66;03m# pylint: disable=cyclic-import\u001b[39;00m\n\u001b[0;32m   1027\u001b[0m \u001b[38;5;28;01mfrom\u001b[39;00m \u001b[38;5;21;01m.\u001b[39;00m\u001b[38;5;21;01m.\u001b[39;00m\u001b[38;5;21;01mtranslators\u001b[39;00m\u001b[38;5;21;01m.\u001b[39;00m\u001b[38;5;21;01mising\u001b[39;00m \u001b[38;5;28;01mimport\u001b[39;00m to_ising\n\u001b[1;32m-> 1029\u001b[0m \u001b[38;5;28;01mreturn\u001b[39;00m \u001b[43mto_ising\u001b[49m\u001b[43m(\u001b[49m\u001b[38;5;28;43mself\u001b[39;49m\u001b[43m)\u001b[49m\n",
      "File \u001b[1;32mc:\\Users\\DELL\\anaconda3\\envs\\qiskit\\Lib\\site-packages\\qiskit_optimization\\translators\\ising.py:57\u001b[0m, in \u001b[0;36mto_ising\u001b[1;34m(quad_prog)\u001b[0m\n\u001b[0;32m     55\u001b[0m \u001b[38;5;66;03m# if constraints exist, raise an error\u001b[39;00m\n\u001b[0;32m     56\u001b[0m \u001b[38;5;28;01mif\u001b[39;00m quad_prog\u001b[38;5;241m.\u001b[39mlinear_constraints \u001b[38;5;129;01mor\u001b[39;00m quad_prog\u001b[38;5;241m.\u001b[39mquadratic_constraints:\n\u001b[1;32m---> 57\u001b[0m     \u001b[38;5;28;01mraise\u001b[39;00m QiskitOptimizationError(\n\u001b[0;32m     58\u001b[0m         \u001b[38;5;124m\"\u001b[39m\u001b[38;5;124mThere must be no constraint in the problem. \u001b[39m\u001b[38;5;124m\"\u001b[39m\n\u001b[0;32m     59\u001b[0m         \u001b[38;5;124m\"\u001b[39m\u001b[38;5;124mYou can use `QuadraticProgramToQubo` converter \u001b[39m\u001b[38;5;124m\"\u001b[39m\n\u001b[0;32m     60\u001b[0m         \u001b[38;5;124m\"\u001b[39m\u001b[38;5;124mto convert constraints to penalty terms of the objective function.\u001b[39m\u001b[38;5;124m\"\u001b[39m\n\u001b[0;32m     61\u001b[0m     )\n\u001b[0;32m     63\u001b[0m \u001b[38;5;66;03m# initialize Hamiltonian.\u001b[39;00m\n\u001b[0;32m     64\u001b[0m num_vars \u001b[38;5;241m=\u001b[39m quad_prog\u001b[38;5;241m.\u001b[39mget_num_vars()\n",
      "\u001b[1;31mQiskitOptimizationError\u001b[0m: 'There must be no constraint in the problem. You can use `QuadraticProgramToQubo` converter to convert constraints to penalty terms of the objective function.'"
     ]
    }
   ],
   "source": [
    "qp = from_docplex_mp(mod)\n",
    "\n",
    "# qp.prettyprint()\n",
    "qubitOp, offset = qp.to_ising()\n"
   ]
  },
  {
   "cell_type": "code",
   "execution_count": null,
   "metadata": {},
   "outputs": [
    {
     "name": "stdout",
     "output_type": "stream",
     "text": [
      "[-0.+0.j -0.-0.j -0.+0.j -0.+0.j]\n"
     ]
    }
   ],
   "source": [
    "# solving Quadratic Program using exact classical eigensolver\n",
    "\n",
    "ee = NumPyMinimumEigensolver()\n",
    "result = ee.compute_minimum_eigenvalue(qubitOp)\n",
    "\n",
    "\n",
    "data = result.eigenstate\n",
    "rounded_statevector = np.round(data.data, decimals=1)\n",
    "# def VQA_qubo(qubo_model):\n",
    "\n",
    "#     qubo_model.to_ising()\n",
    "\n",
    "print(rounded_statevector[-5:-1])"
   ]
  },
  {
   "cell_type": "code",
   "execution_count": null,
   "metadata": {},
   "outputs": [],
   "source": [
    "from qiskit.circuit.library import TwoLocal\n",
    "from qiskit_optimization.applications import Maxcut, Tsp\n",
    "from qiskit_algorithms import SamplingVQE, NumPyMinimumEigensolver\n",
    "from qiskit_algorithms.optimizers import SPSA\n",
    "from qiskit_algorithms.utils import algorithm_globals\n",
    "from qiskit.primitives import Sampler\n",
    "from qiskit_optimization.algorithms import MinimumEigenOptimizer"
   ]
  },
  {
   "cell_type": "code",
   "execution_count": null,
   "metadata": {},
   "outputs": [],
   "source": [
    "algorithm_globals.random_seed = 123\n",
    "seed = 10598"
   ]
  },
  {
   "cell_type": "code",
   "execution_count": null,
   "metadata": {},
   "outputs": [
    {
     "name": "stdout",
     "output_type": "stream",
     "text": [
      "energy: -97.22442844762084\n",
      "time: 134.03024411201477\n",
      "max-cut objective: 14.775571552379162\n",
      "solution: [1 1 1 1 0 1 1 1 0 1 0 0]\n"
     ]
    },
    {
     "ename": "ValueError",
     "evalue": "dimension mismatch",
     "output_type": "error",
     "traceback": [
      "\u001b[1;31m---------------------------------------------------------------------------\u001b[0m",
      "\u001b[1;31mValueError\u001b[0m                                Traceback (most recent call last)",
      "Cell \u001b[1;32mIn[37], line 15\u001b[0m\n\u001b[0;32m     13\u001b[0m \u001b[38;5;28mprint\u001b[39m(\u001b[38;5;124m\"\u001b[39m\u001b[38;5;124mmax-cut objective:\u001b[39m\u001b[38;5;124m\"\u001b[39m, result\u001b[38;5;241m.\u001b[39meigenvalue\u001b[38;5;241m.\u001b[39mreal \u001b[38;5;241m+\u001b[39m offset)\n\u001b[0;32m     14\u001b[0m \u001b[38;5;28mprint\u001b[39m(\u001b[38;5;124m\"\u001b[39m\u001b[38;5;124msolution:\u001b[39m\u001b[38;5;124m\"\u001b[39m, x)\n\u001b[1;32m---> 15\u001b[0m \u001b[38;5;28mprint\u001b[39m(\u001b[38;5;124m\"\u001b[39m\u001b[38;5;124msolution objective:\u001b[39m\u001b[38;5;124m\"\u001b[39m, \u001b[43mqp\u001b[49m\u001b[38;5;241;43m.\u001b[39;49m\u001b[43mobjective\u001b[49m\u001b[38;5;241;43m.\u001b[39;49m\u001b[43mevaluate\u001b[49m\u001b[43m(\u001b[49m\u001b[43mx\u001b[49m\u001b[43m)\u001b[49m)\n",
      "File \u001b[1;32mc:\\Users\\DELL\\anaconda3\\envs\\qiskit\\Lib\\site-packages\\qiskit_optimization\\problems\\quadratic_objective.py:181\u001b[0m, in \u001b[0;36mQuadraticObjective.evaluate\u001b[1;34m(self, x)\u001b[0m\n\u001b[0;32m    176\u001b[0m \u001b[38;5;28;01mif\u001b[39;00m \u001b[38;5;28mself\u001b[39m\u001b[38;5;241m.\u001b[39mlinear\u001b[38;5;241m.\u001b[39mcoefficients\u001b[38;5;241m.\u001b[39mshape \u001b[38;5;241m!=\u001b[39m (\u001b[38;5;241m1\u001b[39m, n) \u001b[38;5;129;01mor\u001b[39;00m \u001b[38;5;28mself\u001b[39m\u001b[38;5;241m.\u001b[39mquadratic\u001b[38;5;241m.\u001b[39mcoefficients\u001b[38;5;241m.\u001b[39mshape \u001b[38;5;241m!=\u001b[39m (n, n):\n\u001b[0;32m    177\u001b[0m     \u001b[38;5;28;01mraise\u001b[39;00m QiskitOptimizationError(\n\u001b[0;32m    178\u001b[0m         \u001b[38;5;124m\"\u001b[39m\u001b[38;5;124mThe shape of the objective function does not match with the number of variables. \u001b[39m\u001b[38;5;124m\"\u001b[39m\n\u001b[0;32m    179\u001b[0m         \u001b[38;5;124m\"\u001b[39m\u001b[38;5;124mNeed to define the objective function after defining all variables\u001b[39m\u001b[38;5;124m\"\u001b[39m\n\u001b[0;32m    180\u001b[0m     )\n\u001b[1;32m--> 181\u001b[0m \u001b[38;5;28;01mreturn\u001b[39;00m \u001b[38;5;28mself\u001b[39m\u001b[38;5;241m.\u001b[39mconstant \u001b[38;5;241m+\u001b[39m \u001b[38;5;28;43mself\u001b[39;49m\u001b[38;5;241;43m.\u001b[39;49m\u001b[43mlinear\u001b[49m\u001b[38;5;241;43m.\u001b[39;49m\u001b[43mevaluate\u001b[49m\u001b[43m(\u001b[49m\u001b[43mx\u001b[49m\u001b[43m)\u001b[49m \u001b[38;5;241m+\u001b[39m \u001b[38;5;28mself\u001b[39m\u001b[38;5;241m.\u001b[39mquadratic\u001b[38;5;241m.\u001b[39mevaluate(x)\n",
      "File \u001b[1;32mc:\\Users\\DELL\\anaconda3\\envs\\qiskit\\Lib\\site-packages\\qiskit_optimization\\problems\\linear_expression.py:170\u001b[0m, in \u001b[0;36mLinearExpression.evaluate\u001b[1;34m(self, x)\u001b[0m\n\u001b[0;32m    167\u001b[0m x \u001b[38;5;241m=\u001b[39m \u001b[38;5;28mself\u001b[39m\u001b[38;5;241m.\u001b[39m_coeffs_to_dok_matrix(x)\n\u001b[0;32m    169\u001b[0m \u001b[38;5;66;03m# compute the dot-product of the input and the linear coefficients\u001b[39;00m\n\u001b[1;32m--> 170\u001b[0m val \u001b[38;5;241m=\u001b[39m (\u001b[43mx\u001b[49m\u001b[43m \u001b[49m\u001b[38;5;241;43m@\u001b[39;49m\u001b[43m \u001b[49m\u001b[38;5;28;43mself\u001b[39;49m\u001b[38;5;241;43m.\u001b[39;49m\u001b[43mcoefficients\u001b[49m\u001b[38;5;241;43m.\u001b[39;49m\u001b[43mtranspose\u001b[49m\u001b[43m(\u001b[49m\u001b[43m)\u001b[49m)[\u001b[38;5;241m0\u001b[39m, \u001b[38;5;241m0\u001b[39m]\n\u001b[0;32m    172\u001b[0m \u001b[38;5;66;03m# return the result\u001b[39;00m\n\u001b[0;32m    173\u001b[0m \u001b[38;5;28;01mreturn\u001b[39;00m val\n",
      "File \u001b[1;32mc:\\Users\\DELL\\anaconda3\\envs\\qiskit\\Lib\\site-packages\\scipy\\sparse\\_base.py:678\u001b[0m, in \u001b[0;36m_spbase.__matmul__\u001b[1;34m(self, other)\u001b[0m\n\u001b[0;32m    675\u001b[0m \u001b[38;5;28;01mif\u001b[39;00m isscalarlike(other):\n\u001b[0;32m    676\u001b[0m     \u001b[38;5;28;01mraise\u001b[39;00m \u001b[38;5;167;01mValueError\u001b[39;00m(\u001b[38;5;124m\"\u001b[39m\u001b[38;5;124mScalar operands are not allowed, \u001b[39m\u001b[38;5;124m\"\u001b[39m\n\u001b[0;32m    677\u001b[0m                      \u001b[38;5;124m\"\u001b[39m\u001b[38;5;124muse \u001b[39m\u001b[38;5;124m'\u001b[39m\u001b[38;5;124m*\u001b[39m\u001b[38;5;124m'\u001b[39m\u001b[38;5;124m instead\u001b[39m\u001b[38;5;124m\"\u001b[39m)\n\u001b[1;32m--> 678\u001b[0m \u001b[38;5;28;01mreturn\u001b[39;00m \u001b[38;5;28;43mself\u001b[39;49m\u001b[38;5;241;43m.\u001b[39;49m\u001b[43m_mul_dispatch\u001b[49m\u001b[43m(\u001b[49m\u001b[43mother\u001b[49m\u001b[43m)\u001b[49m\n",
      "File \u001b[1;32mc:\\Users\\DELL\\anaconda3\\envs\\qiskit\\Lib\\site-packages\\scipy\\sparse\\_base.py:588\u001b[0m, in \u001b[0;36m_spbase._mul_dispatch\u001b[1;34m(self, other)\u001b[0m\n\u001b[0;32m    586\u001b[0m \u001b[38;5;28;01mif\u001b[39;00m issparse(other):\n\u001b[0;32m    587\u001b[0m     \u001b[38;5;28;01mif\u001b[39;00m \u001b[38;5;28mself\u001b[39m\u001b[38;5;241m.\u001b[39mshape[\u001b[38;5;241m1\u001b[39m] \u001b[38;5;241m!=\u001b[39m other\u001b[38;5;241m.\u001b[39mshape[\u001b[38;5;241m0\u001b[39m]:\n\u001b[1;32m--> 588\u001b[0m         \u001b[38;5;28;01mraise\u001b[39;00m \u001b[38;5;167;01mValueError\u001b[39;00m(\u001b[38;5;124m'\u001b[39m\u001b[38;5;124mdimension mismatch\u001b[39m\u001b[38;5;124m'\u001b[39m)\n\u001b[0;32m    589\u001b[0m     \u001b[38;5;28;01mreturn\u001b[39;00m \u001b[38;5;28mself\u001b[39m\u001b[38;5;241m.\u001b[39m_mul_sparse_matrix(other)\n\u001b[0;32m    591\u001b[0m \u001b[38;5;66;03m# If it's a list or whatever, treat it like an array\u001b[39;00m\n",
      "\u001b[1;31mValueError\u001b[0m: dimension mismatch"
     ]
    }
   ],
   "source": [
    "# construct SamplingVQE\n",
    "optimizer = SPSA(maxiter=300)\n",
    "ry = TwoLocal(qubitOp.num_qubits, \"ry\", \"cz\", reps=5, entanglement=\"linear\")\n",
    "vqe = SamplingVQE(sampler=Sampler(), ansatz=ry, optimizer=optimizer)\n",
    "\n",
    "# run SamplingVQE\n",
    "result = vqe.compute_minimum_eigenvalue(qubitOp)\n",
    "\n",
    "# print results\n",
    "x = BinPacking.sample_most_likely(result.eigenstate)\n",
    "print(\"energy:\", result.eigenvalue.real)\n",
    "print(\"time:\", result.optimizer_time)\n",
    "print(\"max-cut objective:\", result.eigenvalue.real + offset)\n",
    "print(\"solution:\", x)\n",
    "print(\"solution objective:\", qp.objective.evaluate(x))\n"
   ]
  }
 ],
 "metadata": {
  "colab": {
   "provenance": []
  },
  "kernelspec": {
   "display_name": "qiskit",
   "language": "python",
   "name": "python3"
  },
  "language_info": {
   "codemirror_mode": {
    "name": "ipython",
    "version": 3
   },
   "file_extension": ".py",
   "mimetype": "text/x-python",
   "name": "python",
   "nbconvert_exporter": "python",
   "pygments_lexer": "ipython3",
   "version": "3.12.2"
  }
 },
 "nbformat": 4,
 "nbformat_minor": 0
}

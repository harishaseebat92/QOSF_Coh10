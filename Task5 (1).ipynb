{
 "cells": [
  {
   "cell_type": "code",
   "execution_count": 1,
   "metadata": {
    "colab": {
     "base_uri": "https://localhost:8080/"
    },
    "id": "fGqf1Ki0YNIY",
    "outputId": "0be1c06e-3b38-4459-91ee-7e8bb4126e55"
   },
   "outputs": [],
   "source": [
    "# !dwave auth login # To login into the dwave leap account"
   ]
  },
  {
   "cell_type": "code",
   "execution_count": 2,
   "metadata": {
    "colab": {
     "base_uri": "https://localhost:8080/"
    },
    "id": "tzNjy_gDYVmE",
    "outputId": "b0c581ac-3fe6-46be-b7f8-ecbe131b5845"
   },
   "outputs": [],
   "source": [
    "# !dwave config create # To configure your account with solver"
   ]
  },
  {
   "cell_type": "code",
   "execution_count": 3,
   "metadata": {
    "colab": {
     "base_uri": "https://localhost:8080/"
    },
    "id": "VFs1tIsZYbml",
    "outputId": "9bca5629-f7fc-4836-c8a5-144292b54258"
   },
   "outputs": [],
   "source": [
    "# !dwave ping --client qpu # To call your qpu availibilty from Dwave-leap account"
   ]
  },
  {
   "cell_type": "code",
   "execution_count": 4,
   "metadata": {
    "id": "DQES7SvfytkM"
   },
   "outputs": [],
   "source": [
    "from docplex.mp.model import Model\n",
    "import pennylane as qml\n",
    "import numpy as np\n",
    "import matplotlib.pyplot as plt\n",
    "from qiskit_optimization.converters import QuadraticProgramToQubo\n",
    "# from qiskit import BasicAer\n",
    "# from qiskit.algorithms import QAOA, NumPyMinimumEigensolver\n",
    "from qiskit_optimization.algorithms import CplexOptimizer, MinimumEigenOptimizer\n",
    "from qiskit_optimization import QuadraticProgram\n",
    "from qiskit_optimization.translators import from_docplex_mp\n",
    "from qiskit_optimization.applications import BinPacking, Tsp\n",
    "from brute_force_bpp import *\n",
    "from qiskit_algorithms import SamplingVQE, NumPyMinimumEigensolver\n",
    "from vqa_pennylane import *"
   ]
  },
  {
   "cell_type": "code",
   "execution_count": 5,
   "metadata": {
    "id": "E4PWIe84EdDr"
   },
   "outputs": [],
   "source": [
    "def data_bins(result, weights, n, m, C, simplify=False):\n",
    "    \"\"\"\n",
    "    Organizes the results of the ILP Bin Packing optimization into bins.\n",
    "\n",
    "    Parameters:\n",
    "    result (OptimizationResult): Optimization result from the solver.\n",
    "    weights (list): Weights of each item.\n",
    "    n (int): Number of items.\n",
    "    m (int): Maximum possible number of bins.\n",
    "    C (int): Capacity of each bin.\n",
    "    simplify (bool): Flag to simplify the output (optional).\n",
    "\n",
    "    Returns:\n",
    "    dict: Dictionary with keys \"bins\", \"items\", and \"index\" for bin data.\n",
    "    \"\"\"\n",
    "    # Extract variables dictionary from the result\n",
    "    variables_dict = result.variables_dict\n",
    "\n",
    "    # Initialize arrays for decision variables\n",
    "    x_vars = np.zeros((m, n))\n",
    "    y_vars = np.zeros(m)\n",
    "\n",
    "    # Retrieve values from the variables dictionary\n",
    "    for j in range(m):\n",
    "        y_vars[j] = variables_dict.get(f\"y_{j}\", 0)  # Bin j status\n",
    "        for i in range(n):\n",
    "            x_vars[j, i] = variables_dict.get(f\"x_{i}_{j}\", 0)  # Item i in bin j\n",
    "\n",
    "    # Calculate the weight of items in each bin\n",
    "    items = x_vars * weights\n",
    "    bins = y_vars\n",
    "\n",
    "    return {\"bins\": bins, \"items\": items, \"index\": np.arange(m)}\n",
    "\n",
    "def plot_bins(result, weights, n, m, C, simplify=False):\n",
    "    \"\"\"\n",
    "    Plots the results of the ILP Bin Packing solution in a bar diagram.\n",
    "\n",
    "    Parameters:\n",
    "    result (OptimizationResult): Optimization result from the solver.\n",
    "    weights (list): Weights of each item.\n",
    "    n (int): Number of items.\n",
    "    m (int): Maximum possible number of bins.\n",
    "    C (int): Capacity of each bin.\n",
    "    simplify (bool): Flag to simplify the plot (optional).\n",
    "    \"\"\"\n",
    "    res = data_bins(result, weights, n, m, C, simplify)\n",
    "    plt.figure(figsize=(10, 6))\n",
    "\n",
    "    # Bin index and initial bar for first item\n",
    "    ind = res[\"index\"]\n",
    "    plt.bar(ind, res[\"items\"][:, 0], label=f\"item 0\")\n",
    "    suma = res[\"items\"][:, 0]  # Initialize bottom for stacking bars\n",
    "\n",
    "    # Stack items in each bin\n",
    "    for j in range(1, n):\n",
    "        plt.bar(ind, res[\"items\"][:, j], bottom=suma, label=f\"item {j}\")\n",
    "        suma += res[\"items\"][:, j]\n",
    "\n",
    "    # Add a line for the bin capacity\n",
    "    plt.hlines(C, -0.5, m - 0.5, linestyle=\"--\", color=\"r\", label=\"Max Capacity (C)\")\n",
    "\n",
    "    plt.xticks(ind)\n",
    "    plt.xlabel(\"Bin\")\n",
    "    plt.ylabel(\"Weight\")\n",
    "    plt.legend()\n",
    "    plt.title(\"Bin Packing Solution\")\n",
    "    plt.show()\n"
   ]
  },
  {
   "cell_type": "markdown",
   "metadata": {
    "id": "EhBN4IWGytkP"
   },
   "source": [
    "## Formulation\n",
    "\n",
    "The **Bin Packing Problem (BPP)** is a classic optimization problem where we are given a set of items with specific weights and bins with a fixed capacity. The goal is to pack all items into the minimum number of bins without exceeding the capacity of any bin.\n",
    "\n",
    "### Problem Definition\n",
    "\n",
    "- Given $n$ items with weights $w_1, w_2, \\ldots, w_n$ and bin capacity $C$.\n",
    "- Minimize the number of bins used.\n",
    "\n",
    "### ILP Formulation\n",
    "\n",
    "**Decision Variables:**\n",
    "- $x_{ij}$: 1 if item $i$ is in bin $j$, 0 otherwise.\n",
    "- $y_j$: 1 if bin $j$ is used, 0 otherwise.\n",
    "\n",
    "**Objective Function:**\n",
    "$$\n",
    "\\text{Minimize } \\sum_{j=1}^{m} y_j\n",
    "$$\n",
    "where $m$ is an upper bound on the number of bins.\n",
    "\n",
    "**Constraints:**\n",
    "1. Each item must be assigned to exactly one bin:\n",
    "   $$\n",
    "   \\sum_{j=1}^{m} x_{ij} = 1, \\quad \\forall i \\in \\{1, 2, \\ldots, n\\}\n",
    "   $$\n",
    "2. The total weight in each bin cannot exceed its capacity:\n",
    "   $$\n",
    "   \\sum_{i=1}^{n} w_i x_{ij} \\leq C y_j, \\quad \\forall j \\in \\{1, 2, \\ldots, m\\}\n",
    "   $$\n",
    "3. Binary constraints:\n",
    "   $$\n",
    "   x_{ij} \\in \\{0, 1\\}, \\quad y_j \\in \\{0, 1\\}\n",
    "   $$\n",
    "\n",
    "### Explanation of Terms\n",
    "- **Objective Function**: Represents the total number of bins used.\n",
    "- **Constraint 1**: Ensures each item is placed in exactly one bin.\n",
    "- **Constraint 2**: Ensures the weight in each bin does not exceed $C$.\n",
    "- **Binary Constraints**: Ensure $x_{ij}$ and $y_j$ are binary variables.\n"
   ]
  },
  {
   "cell_type": "code",
   "execution_count": 6,
   "metadata": {
    "id": "L-wLWdeKytkQ"
   },
   "outputs": [],
   "source": [
    "\n",
    "def bpp_to_ilp(weights, C):\n",
    "    # Initialize model\n",
    "    model = Model(name=\"Bin Packing Problem\")\n",
    "    n = len(weights)\n",
    "    m = min_bins(weights, C)\n",
    "    # Decision Variables\n",
    "    # x[i, j] = 1 if item i is placed in bin j, 0 otherwise\n",
    "    x = {(i, j): model.binary_var(name=f\"x_{i}_{j}\") for i in range(n) for j in range(m)}\n",
    "\n",
    "    # y[j] = 1 if bin j is used, 0 otherwise\n",
    "    y = {j: model.binary_var(name=f\"y_{j}\") for j in range(m)}\n",
    "    # Constraints\n",
    "\n",
    "    # 1. Each item must be assigned to exactly one bin\n",
    "    for i in range(n):\n",
    "        model.add_constraint(model.sum(x[i, j] for j in range(m)) == 1, ctname=f\"assign_item_{i}\")\n",
    "\n",
    "    # 2. Total weight in each bin cannot exceed bin capacity\n",
    "    for j in range(m):\n",
    "        model.add_constraint(model.sum(weights[i] * x[i, j] for i in range(n)) <= C * y[j], ctname=f\"capacity_bin_{j}\")\n",
    "\n",
    "    # Objective: Minimize the number of bins used\n",
    "    model.minimize(model.sum(y[j] for j in range(m)))\n",
    "    \n",
    "    return model\n"
   ]
  },
  {
   "cell_type": "code",
   "execution_count": 7,
   "metadata": {
    "id": "g0k4hlDrytkQ"
   },
   "outputs": [],
   "source": [
    "weights = [2,3,1,3]\n",
    "C = 5\n",
    "mod = bpp_to_ilp(weights, C)"
   ]
  },
  {
   "cell_type": "code",
   "execution_count": 8,
   "metadata": {
    "colab": {
     "base_uri": "https://localhost:8080/",
     "height": 801
    },
    "id": "HeQt68MQytkQ",
    "outputId": "635907cc-242c-457d-ab99-5c5269714796"
   },
   "outputs": [],
   "source": [
    "# mod = from_docplex_mp(model)\n",
    "# # Solving Quadratic Program using CPLEX\n",
    "# cplex = CplexOptimizer()\n",
    "# result = cplex.solve(mod)\n",
    "# print(result)\n",
    "# plot_bins(result, weights, n, m, C)\n",
    "# result.variables_dict\n"
   ]
  },
  {
   "cell_type": "markdown",
   "metadata": {
    "id": "yHB994oZ5zHT"
   },
   "source": [
    "### Objective Function\n",
    "\n",
    "Minimize:\n",
    "\n",
    "$$\n",
    "\\sum_{i=1}^{m} y_i + \\alpha \\left[ - \\sum_{i=1}^{m} \\left( C y_i - \\sum_{j=1}^{n} w_j x_{ij} \\right) + \\left( \\sum_{i=1}^{m} \\left( C y_i - \\sum_{j=1}^{n} w_j x_{ij} \\right) \\right)^2 \\right]\n",
    "$$\n",
    "\n",
    "Where:\n",
    "- $y_i$ is a binary variable indicating whether bin $i$ is used (1) or not (0).\n",
    "- $x_{ij}$ is a binary variable indicating whether item $j$ is assigned to bin $i$.\n",
    "\n",
    "### Subject to:\n",
    "\n",
    "#### 1. Assignment Constraint:\n",
    "Each item must be assigned to exactly one bin:\n",
    "\n",
    "$$\n",
    "\\sum_{i=1}^{m} x_{ij} = 1 \\quad \\forall j = 1, \\dots, n\n",
    "$$\n",
    "\n",
    "#### 2. Capacity Constraint:\n",
    "The total weight in each bin cannot exceed its capacity if the bin is used:\n",
    "\n",
    "$$\n",
    "\\sum_{j=1}^{n} w_j x_{ij} \\leq C y_i \\quad \\forall i = 1, \\dots, m\n",
    "$$\n",
    "\n",
    "#### 3. Binary Constraints:\n",
    "\n",
    "For the assignment variables:\n",
    "\n",
    "$$\n",
    "x_{ij} \\in \\{0, 1\\} \\quad \\forall i = 1, \\dots, m \\quad \\text{and} \\quad j = 1, \\dots, n\n",
    "$$\n",
    "\n",
    "For the bin usage variables:\n",
    "\n",
    "$$\n",
    "y_i \\in \\{0, 1\\} \\quad \\forall i = 1, \\dots, m\n",
    "$$\n"
   ]
  },
  {
   "cell_type": "code",
   "execution_count": 9,
   "metadata": {},
   "outputs": [],
   "source": [
    "def ilp_to_qubo(docplex_model):\n",
    "    \"\"\"\n",
    "    Converts a given ILP Docplex model to a QUBO model.\n",
    "\n",
    "    Parameters:\n",
    "    docplex_model: Model\n",
    "        A Docplex model representing an ILP problem.\n",
    "\n",
    "    Returns:\n",
    "    qubo: Quadratic \"\"\"\n",
    "\n",
    "    qp = from_docplex_mp(docplex_model)\n",
    "    qp2qubo = QuadraticProgramToQubo()\n",
    "    qubo = qp2qubo.convert(qp)\n",
    "    # print(qubo.prettyprint())\n",
    "    return qubo"
   ]
  },
  {
   "cell_type": "code",
   "execution_count": 10,
   "metadata": {
    "colab": {
     "base_uri": "https://localhost:8080/"
    },
    "id": "5xJ2fFTp9dD7",
    "outputId": "22ff7aa8-38b3-4ddd-c1fc-6ae80134c9b9"
   },
   "outputs": [
    {
     "data": {
      "text/plain": [
       "16"
      ]
     },
     "execution_count": 10,
     "metadata": {},
     "output_type": "execute_result"
    }
   ],
   "source": [
    "qresult = ilp_to_qubo(mod)\n",
    "\n",
    "qresult.get_num_binary_vars()"
   ]
  },
  {
   "cell_type": "code",
   "execution_count": 11,
   "metadata": {
    "colab": {
     "base_uri": "https://localhost:8080/",
     "height": 183
    },
    "id": "FzMvQPoyHziL",
    "outputId": "a89d5ce4-ad1e-46c0-9582-5a73e47983e1"
   },
   "outputs": [],
   "source": [
    "# from dwave.system import DWaveSampler, EmbeddingComposite\n",
    "# from qiskit_optimization.algorithms import MinimumEigenOptimizer\n",
    "# from qiskit_optimization.converters import QuadraticProgramToQubo\n",
    "# from qiskit_optimization.translators import from_docplex_mp\n",
    "\n",
    "# def solve_qubo_on_dwave(qubo):\n",
    "#     \"\"\"\n",
    "#     Solves the QUBO on D-Wave's quantum annealer.\n",
    "\n",
    "#     Parameters:\n",
    "#     qubo: QuadraticProgram\n",
    "#         The QUBO problem generated by ilp_to_qubo.\n",
    "\n",
    "#     Returns:\n",
    "#     result: dict\n",
    "#         The solution from D-Wave's quantum annealer.\n",
    "#     \"\"\"\n",
    "#     # Convert the QUBO to a format compatible with D-Wave\n",
    "#     qubo_dict = qubo.to_ising()[0]\n",
    "\n",
    "#     # Define the sampler with an embedding to handle larger problems\n",
    "#     sampler = EmbeddingComposite(DWaveSampler())\n",
    "\n",
    "#     # Run the sampler on the QUBO model\n",
    "#     sampleset = sampler.sample_qubo(qubo_dict, num_reads=100)\n",
    "\n",
    "#     # Extract the best solution\n",
    "#     best_solution = sampleset.first.sample\n",
    "#     best_energy = sampleset.first.energy\n",
    "\n",
    "#     print(\"Best Solution:\", best_solution)\n",
    "#     print(\"Energy:\", best_energy)\n",
    "\n",
    "#     return best_solution, best_energy\n",
    "\n",
    "# # Example usage:\n",
    "# # docplex_model = # Define your ILP model using docplex here\n",
    "# # qubo_model = ilp_to_qubo(docplex_model)\n",
    "# # best_solution, best_energy = solve_qubo_on_dwave(qubo_model)\n",
    "\n",
    "# solve_qubo_on_dwave(qresult)"
   ]
  },
  {
   "cell_type": "code",
   "execution_count": 12,
   "metadata": {
    "id": "sulfeKeaMjUc"
   },
   "outputs": [],
   "source": [
    "# result1 = cplex.solve(qresult)\n",
    "# print(result1)\n"
   ]
  },
  {
   "cell_type": "markdown",
   "metadata": {},
   "source": [
    "### Brute Force Algorithm for Bin Packing Problem\n",
    "\n",
    "#### Algorithm Overview\n",
    "\n",
    "1. **Inputs**:\n",
    "   - `weights`: List of item weights that need to be packed.\n",
    "   - `C`: Bin capacity, which we set as $C = \\max(\\text{weights}) + 2$ to ensure room for our items.\n",
    "\n",
    "2. **Filter Valid Combinations**:\n",
    "   - Create all possible combinations of binary variables $x_{ij}$, where $x_{ij} = 1$ means item $i$ goes into bin $j$, and $x_{ij} = 0$ means it doesn’t.\n",
    "   - Filter these combinations to satisfy:\n",
    "     $$\n",
    "     \\sum_{j} x_{ij} = 1 \\quad \\text{for each item} \\ i\n",
    "     $$\n",
    "   - This ensures each item is placed in one bin only.\n",
    "\n",
    "3. **Initialize with Minimum Bins**:\n",
    "   - Start with $Y = 1$, so $y_1 = 1$ (bin 1 is in use) and all others set to $0$.\n",
    "\n",
    "4. **Check Capacity**:\n",
    "   - With $Y = 1$, look for any combinations of $x_{ij}$ that satisfy:\n",
    "     $$\n",
    "     \\sum_{i} x_{ij} \\times \\texttt{weight}_i \\leq C \\quad \\text{for all bins in use}\n",
    "     $$\n",
    "   - If you can't find a valid setup, increase $Y$ by 1 (using an additional bin) and repeat.\n",
    "   - Keep increasing $Y$ until you find a feasible configuration.\n",
    "\n",
    "5. **Output**:\n",
    "   - Once a valid configuration is found, the resulting matrix shows the minimum number of bins needed and the assignment of each item to a bin.\n",
    "\n",
    "#### Example\n",
    "\n",
    "Let's say we have the following:\n",
    "\n",
    "- **Input**:\n",
    "  - Item weights: `weights = [3, 2, 3, 4, 1]`\n",
    "  - Bin capacity: $C = \\max(\\text{weights}) + 2 = 6$\n",
    "\n",
    "- **Output Matrix**:\n",
    "\n",
    "$$\n",
    "\\begin{bmatrix}\n",
    "x_{11} & x_{12} & x_{13} \\\\\n",
    "x_{21} & x_{22} & x_{23} \\\\\n",
    "x_{31} & x_{32} & x_{33} \\\\\n",
    "x_{41} & x_{42} & x_{43} \\\\\n",
    "x_{51} & x_{52} & x_{53} \\\\\n",
    "\\end{bmatrix} = \n",
    "\\begin{bmatrix}\n",
    "0 & 0 & 1 \\\\\n",
    "0 & 0 & 1 \\\\\n",
    "0 & 1 & 0 \\\\\n",
    "1 & 0 & 0 \\\\\n",
    "0 & 0 & 1 \\\\\n",
    "\\end{bmatrix}\n",
    "$$\n",
    "\n",
    "- **Explanation**:\n",
    "   - Item 1 goes in Bin 3 ($x_{13} = 1$)\n",
    "   - Item 2 goes in Bin 3 ($x_{23} = 1$)\n",
    "   - Item 3 goes in Bin 2 ($x_{32} = 1$)\n",
    "   - Item 4 goes in Bin 1 ($x_{41} = 1$)\n",
    "   - Item 5 goes in Bin 3 ($x_{53} = 1$)\n",
    "\n",
    "So, the minimum number of bins required is $Y = 3$, based on this setup!\n"
   ]
  },
  {
   "cell_type": "code",
   "execution_count": 13,
   "metadata": {},
   "outputs": [
    {
     "data": {
      "text/plain": [
       "(array([[0, 1],\n",
       "        [1, 0],\n",
       "        [0, 1],\n",
       "        [1, 0]]),\n",
       " 2)"
      ]
     },
     "execution_count": 13,
     "metadata": {},
     "output_type": "execute_result"
    }
   ],
   "source": [
    "from brute_force_bpp import *\n",
    "\n",
    "weights = [3, 2, 3, 4]  # Weights of 4 items\n",
    "C =  max(weights) +2 # Bin capacity\n",
    "brute_force(weights, C)"
   ]
  },
  {
   "cell_type": "code",
   "execution_count": null,
   "metadata": {},
   "outputs": [
    {
     "name": "stdout",
     "output_type": "stream",
     "text": [
      "objective function value: 2.0\n",
      "variable values: x_0_0=0.0, x_0_1=1.0, x_1_0=1.0, x_1_1=0.0, x_2_0=0.0, x_2_1=1.0, x_3_0=1.0, x_3_1=0.0, y_0=1.0, y_1=1.0, capacity_bin_0@int_slack@0=0.0, capacity_bin_0@int_slack@1=0.0, capacity_bin_0@int_slack@2=0.0, capacity_bin_1@int_slack@0=0.0, capacity_bin_1@int_slack@1=0.0, capacity_bin_1@int_slack@2=0.0\n",
      "status: SUCCESS\n"
     ]
    },
    {
     "data": {
      "text/plain": [
       "16"
      ]
     },
     "execution_count": 14,
     "metadata": {},
     "output_type": "execute_result"
    }
   ],
   "source": [
    "\n",
    "\n",
    "# my model \n",
    "mod1 = bpp_to_ilp(weights, C)\n",
    "\n",
    "mod1 = ilp_to_qubo(mod1)\n",
    "\n",
    "\n",
    "# qubo = qp2qubo.convert(mod1)\n",
    "qubitOp, offset = mod1.to_ising()\n",
    "\n",
    "print(qubitOp.num_qubits)\n",
    "# exact = MinimumEigenOptimizer(NumPyMinimumEigensolver())\n",
    "# result = exact.solve(mod1)\n",
    "# print(result.prettyprint())"
   ]
  },
  {
   "cell_type": "markdown",
   "metadata": {},
   "source": [
    "### VQA Approach"
   ]
  },
  {
   "cell_type": "code",
   "execution_count": null,
   "metadata": {},
   "outputs": [
    {
     "name": "stdout",
     "output_type": "stream",
     "text": [
      "[-0.-0.j  0.+0.j -0.-0.j ... -0.-0.j -0.+0.j  0.+0.j]\n"
     ]
    },
    {
     "ename": "",
     "evalue": "",
     "output_type": "error",
     "traceback": [
      "\u001b[1;31mThe Kernel crashed while executing code in the current cell or a previous cell. \n",
      "\u001b[1;31mPlease review the code in the cell(s) to identify a possible cause of the failure. \n",
      "\u001b[1;31mClick <a href='https://aka.ms/vscodeJupyterKernelCrash'>here</a> for more info. \n",
      "\u001b[1;31mView Jupyter <a href='command:jupyter.viewOutput'>log</a> for further details."
     ]
    }
   ],
   "source": [
    "# solving Quadratic Program using exact classical eigensolver\n",
    "\n",
    "ee = NumPyMinimumEigensolver()\n",
    "result = ee.compute_minimum_eigenvalue(qubitOp)\n",
    "\n",
    "\n",
    "data = result.eigenstate\n",
    "rounded_statevector = np.round(data.data, decimals=1)\n",
    "# def VQA_qubo(qubo_model):\n",
    "\n",
    "#     qubo_model.to_ising()\n",
    "\n",
    "print(rounded_statevector)"
   ]
  },
  {
   "cell_type": "code",
   "execution_count": null,
   "metadata": {},
   "outputs": [],
   "source": [
    "\n",
    "def alternating_layer_ansatz(params, wires):\n",
    "    num_wires = len(wires)\n",
    "    for i in range(num_wires):\n",
    "        qml.RX(params[i], wires=wires[i])\n",
    "        qml.RY(params[num_wires + i], wires=wires[i])\n",
    "    for i in range(num_wires - 1):\n",
    "        qml.CNOT(wires=[wires[i], wires[i + 1]])\n",
    "\n",
    "\n",
    "find_eigenstate(mod1,alternating_layer_ansatz)"
   ]
  }
 ],
 "metadata": {
  "colab": {
   "provenance": []
  },
  "kernelspec": {
   "display_name": "qiskit",
   "language": "python",
   "name": "python3"
  },
  "language_info": {
   "codemirror_mode": {
    "name": "ipython",
    "version": 3
   },
   "file_extension": ".py",
   "mimetype": "text/x-python",
   "name": "python",
   "nbconvert_exporter": "python",
   "pygments_lexer": "ipython3",
   "version": "3.12.2"
  }
 },
 "nbformat": 4,
 "nbformat_minor": 0
}

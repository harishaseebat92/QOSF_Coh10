{
 "cells": [
  {
   "cell_type": "code",
   "execution_count": 7,
   "metadata": {},
   "outputs": [],
   "source": [
    "import pennylane as qml\n",
    "import numpy as np\n",
    "import jax\n",
    "import matplotlib.pyplot as plt\n",
    "import pickle\n",
    "import os\n",
    "import matplotlib.pyplot as plt\n",
    "from qiskit.quantum_info import SparsePauliOp\n",
    "\n",
    "from qiskit_optimization.applications import Knapsack\n",
    "from qiskit_optimization.algorithms import MinimumEigenOptimizer\n",
    "from qiskit_algorithms.utils import algorithm_globals\n",
    "from qiskit_algorithms import QAOA, NumPyMinimumEigensolver\n",
    "from qiskit_algorithms.optimizers import COBYLA\n",
    "from qiskit.primitives import Sampler\n",
    "\n",
    "from qiskit_optimization.converters import QuadraticProgramToQubo"
   ]
  },
  {
   "cell_type": "code",
   "execution_count": 26,
   "metadata": {},
   "outputs": [
    {
     "name": "stdout",
     "output_type": "stream",
     "text": [
      "Problem name: Knapsack\n",
      "\n",
      "Minimize\n",
      "  8*c0@int_slack@0^2 + 32*c0@int_slack@0*c0@int_slack@1\n",
      "  + 64*c0@int_slack@0*c0@int_slack@2 + 48*c0@int_slack@0*c0@int_slack@3\n",
      "  + 32*c0@int_slack@1^2 + 128*c0@int_slack@1*c0@int_slack@2\n",
      "  + 96*c0@int_slack@1*c0@int_slack@3 + 128*c0@int_slack@2^2\n",
      "  + 192*c0@int_slack@2*c0@int_slack@3 + 72*c0@int_slack@3^2\n",
      "  + 32*x_0*c0@int_slack@0 + 64*x_0*c0@int_slack@1 + 128*x_0*c0@int_slack@2\n",
      "  + 96*x_0*c0@int_slack@3 + 32*x_0^2 + 96*x_0*x_1 + 48*x_1*c0@int_slack@0\n",
      "  + 96*x_1*c0@int_slack@1 + 192*x_1*c0@int_slack@2 + 144*x_1*c0@int_slack@3\n",
      "  + 72*x_1^2 - 160*c0@int_slack@0 - 320*c0@int_slack@1 - 640*c0@int_slack@2\n",
      "  - 480*c0@int_slack@3 - 323*x_0 - 484*x_1 + 800\n",
      "\n",
      "Subject to\n",
      "  No constraints\n",
      "\n",
      "  Binary variables (6)\n",
      "    x_0 x_1 c0@int_slack@0 c0@int_slack@1 c0@int_slack@2 c0@int_slack@3\n",
      "\n"
     ]
    }
   ],
   "source": [
    "prob = Knapsack(values=[3, 4], weights=[2, 3], max_weight=10)\n",
    "qp = prob.to_quadratic_program()\n",
    "# intermediate QUBO form of the optimization problem\n",
    "conv = QuadraticProgramToQubo()\n",
    "qubo = conv.convert(qp)\n",
    "print(qubo.prettyprint())\n"
   ]
  },
  {
   "cell_type": "code",
   "execution_count": 27,
   "metadata": {},
   "outputs": [
    {
     "name": "stdout",
     "output_type": "stream",
     "text": [
      "num qubits: 6, offset: 132.5\n",
      "\n",
      "SparsePauliOp(['IIIIIZ', 'IIIIZI', 'IIIZII', 'IIZIII', 'IZIIII', 'ZIIIII', 'IIIIZZ', 'IIIZIZ', 'IIZIIZ', 'IZIIIZ', 'ZIIIIZ', 'IIIZZI', 'IIZIZI', 'IZIIZI', 'ZIIIZI', 'IIZZII', 'IZIZII', 'ZIIZII', 'IZZIII', 'ZIZIII', 'ZZIIII'],\n",
      "              coeffs=[41.5+0.j, 62. +0.j, 20. +0.j, 40. +0.j, 80. +0.j, 60. +0.j, 24. +0.j,\n",
      "  8. +0.j, 16. +0.j, 32. +0.j, 24. +0.j, 12. +0.j, 24. +0.j, 48. +0.j,\n",
      " 36. +0.j,  8. +0.j, 16. +0.j, 12. +0.j, 32. +0.j, 24. +0.j, 48. +0.j])\n"
     ]
    }
   ],
   "source": [
    "# qubit Hamiltonian and offset\n",
    "op, offset = qubo.to_ising()\n",
    "print(f\"num qubits: {op.num_qubits}, offset: {offset}\\n\")\n",
    "print(op)"
   ]
  },
  {
   "cell_type": "code",
   "execution_count": 28,
   "metadata": {},
   "outputs": [],
   "source": [
    "from qiskit.quantum_info import SparsePauliOp\n",
    "\n",
    "num_wires = op.num_qubits\n",
    "wires = list(range(num_wires))\n",
    "# H_matrix = qubitOp.to_matrix()\n",
    "\n",
    "\n"
   ]
  },
  {
   "cell_type": "code",
   "execution_count": 29,
   "metadata": {},
   "outputs": [],
   "source": [
    "\n",
    "np.random.seed(62213)\n",
    "\n",
    "# Define the Hamiltonian\n",
    "hamiltonian = op\n",
    "\n",
    "# Convert the SparsePauliOp to a matrix\n",
    "H_matrix = hamiltonian.to_matrix()\n",
    "H = qml.Hermitian(H_matrix, wires=wires)\n",
    "\n",
    "# Compute the eigenvalues and eigenvectors of the Hamiltonian\n",
    "\n",
    "E_min = min(qml.eigvals(H))\n",
    "\n",
    "# eigenvalues, eigenvectors = np.linalg.eigh(H_matrix)\n",
    "# eigenvalues"
   ]
  },
  {
   "cell_type": "code",
   "execution_count": 52,
   "metadata": {},
   "outputs": [
    {
     "name": "stdout",
     "output_type": "stream",
     "text": [
      "Step 500, Energy: -133.910004\n",
      "Final optimized parameters: [3.1377313  6.218732   3.1101482  3.665744   5.1965895  3.4473636\n",
      " 6.2871346  6.275904   0.0706436  3.3573072  0.23206562 6.252563  ]\n",
      "Minimum energy achieved: -133.91\n"
     ]
    }
   ],
   "source": [
    "dev = qml.device(\"default.qubit\", wires=num_wires, shots=1000)  # Adjust shots as needed\n",
    "import jax\n",
    "import jax.numpy as jnp\n",
    "\n",
    "# Define the ansatz (variational circuit)\n",
    "def ansatz(params, wires):\n",
    "    for i in range(num_wires):\n",
    "        qml.RX(params[i], wires=wires[i])\n",
    "    for i in range(num_wires - 1):\n",
    "        qml.CNOT(wires=[wires[i], wires[i+1]])\n",
    "    for i in range(num_wires):\n",
    "        qml.RY(params[num_wires + i], wires=wires[i])\n",
    "\n",
    "# Define the VQE cost function\n",
    "@qml.qnode(dev, interface=\"jax\")\n",
    "def qnode(params, operation=None):\n",
    "    ansatz(params, wires=list(range(num_wires)))\n",
    "    return qml.expval(H)  # Expectation value of the Hamiltonian\n",
    "\n",
    "# Optimization settings\n",
    "learning_rate = 5e-4\n",
    "num_steps = 500\n",
    "init_params = np.random.uniform(low=0, high=2 * jnp.pi, size=(2 * num_wires,))  # Random initial params\n",
    "\n",
    "# JIT compilation for faster computation\n",
    "grad_fn = jax.jit(jax.grad(qnode))  # Gradient function\n",
    "qnode = jax.jit(qnode)  # JIT-compiled qnode\n",
    "\n",
    "# Optimization loop\n",
    "def optimize(ansatz):\n",
    "    params = init_params\n",
    "    energies = []\n",
    "\n",
    "    for step in range(num_steps):\n",
    "        cost = qnode(params)\n",
    "        grads = grad_fn(params)\n",
    "        params = params - learning_rate * grads\n",
    "        energies.append(cost)\n",
    "    print(f\"Step {step + 1}, Energy: {cost:.6f}\")\n",
    "\n",
    "    return params, energies\n",
    "\n",
    "# Run the optimization\n",
    "optimal_params, energy_history = optimize(ansatz)\n",
    "\n",
    "print(\"Final optimized parameters:\", optimal_params)\n",
    "print(\"Minimum energy achieved:\", energy_history[-1])"
   ]
  },
  {
   "cell_type": "code",
   "execution_count": null,
   "metadata": {},
   "outputs": [],
   "source": [
    "# Measure the final state with optimized parameters\n",
    "@qml.qnode(dev, interface=\"jax\")\n",
    "def final_state(params):\n",
    "    ansatz(params, wires=list(range(num_wires)))\n",
    "    return [qml.sample(qml.PauliZ(i)) for i in range(num_wires)]  # Measure each qubit in the Z-basis\n",
    "\n",
    "# Get the measurement result for the optimal parameters\n",
    "qubit_states = final_state(optimal_params)\n",
    "# print(\"Final qubit states:\", qubit_states)\n",
    "nqs = np.array(qubit_states)\n",
    "nqs[nqs == -1] = 0\n",
    "nqs\n"
   ]
  },
  {
   "cell_type": "code",
   "execution_count": 97,
   "metadata": {},
   "outputs": [
    {
     "name": "stdout",
     "output_type": "stream",
     "text": [
      "Final qubit states after majority vote: [0, 0, 1, 1, 0, 1]\n"
     ]
    }
   ],
   "source": [
    "qubit_states_np = nqs\n",
    "\n",
    "# Take the most common measurement outcome (either -1 or 1) for each qubit\n",
    "final_qubit_states = [np.bincount(qubit_states_np[i]).argmax() for i in range(len(qubit_states_np))]\n",
    "\n",
    "print(\"Final qubit states after majority vote:\", final_qubit_states)"
   ]
  },
  {
   "cell_type": "code",
   "execution_count": 30,
   "metadata": {},
   "outputs": [
    {
     "name": "stderr",
     "output_type": "stream",
     "text": [
      "<>:24: SyntaxWarning: invalid escape sequence '\\m'\n",
      "<>:24: SyntaxWarning: invalid escape sequence '\\m'\n",
      "C:\\Users\\DELL\\AppData\\Local\\Temp\\ipykernel_18196\\391022573.py:24: SyntaxWarning: invalid escape sequence '\\m'\n",
      "  (\"$\\mathrm{SU}(N)$ gate\", \"SU(N) gate\"): qml.SpecialUnitary,\n"
     ]
    }
   ],
   "source": [
    "def two_qubit_decomp(params, wires):\n",
    "    \"\"\"Implement an arbitrary SU(4) gate on two qubits\n",
    "    using the decomposition from Theorem 5 in\n",
    "    https://arxiv.org/pdf/quant-ph/0308006.pdf\"\"\"\n",
    "    i, j = wires\n",
    "    # Single U(2) parameterization on both qubits separately\n",
    "    qml.Rot(*params[:3], wires=i)\n",
    "    qml.Rot(*params[3:6], wires=j)\n",
    "    qml.CNOT(wires=[j, i])  # First CNOT\n",
    "    qml.RZ(params[6], wires=i)\n",
    "    qml.RY(params[7], wires=j)\n",
    "    qml.CNOT(wires=[i, j])  # Second CNOT\n",
    "    qml.RY(params[8], wires=j)\n",
    "    qml.CNOT(wires=[j, i])  # Third CNOT\n",
    "    # Single U(2) parameterization on both qubits separately\n",
    "    qml.Rot(*params[9:12], wires=i)\n",
    "    qml.Rot(*params[12:15], wires=j)\n",
    "\n",
    "\n",
    "# The three building blocks on two qubits we will compare are:\n",
    "operations = {\n",
    "    (\"Decomposition\", \"decomposition\"): two_qubit_decomp,\n",
    "    (\"PauliRot sequence\",) * 2: qml.ArbitraryUnitary,\n",
    "    (\"$\\mathrm{SU}(N)$ gate\", \"SU(N) gate\"): qml.SpecialUnitary,\n",
    "}"
   ]
  },
  {
   "cell_type": "code",
   "execution_count": 38,
   "metadata": {},
   "outputs": [
    {
     "name": "stdout",
     "output_type": "stream",
     "text": [
      "0: ─╭SpecialUnitary(M0)─────────────────────╭SpecialUnitary(M5)─╭SpecialUnitary(M6)\n",
      "1: ─╰SpecialUnitary(M0)─╭SpecialUnitary(M3)─│───────────────────╰SpecialUnitary(M6)\n",
      "2: ─╭SpecialUnitary(M1)─╰SpecialUnitary(M3)─│───────────────────╭SpecialUnitary(M7)\n",
      "3: ─╰SpecialUnitary(M1)─╭SpecialUnitary(M4)─│───────────────────╰SpecialUnitary(M7)\n",
      "4: ─╭SpecialUnitary(M2)─╰SpecialUnitary(M4)─│───────────────────╭SpecialUnitary(M8)\n",
      "5: ─╰SpecialUnitary(M2)─────────────────────╰SpecialUnitary(M5)─╰SpecialUnitary(M8)\n",
      "\n",
      "───────────────────────╭SpecialUnitary(M11)─┤ ╭<𝓗(M12)>\n",
      "──╭SpecialUnitary(M9)──│────────────────────┤ ├<𝓗(M12)>\n",
      "──╰SpecialUnitary(M9)──│────────────────────┤ ├<𝓗(M12)>\n",
      "──╭SpecialUnitary(M10)─│────────────────────┤ ├<𝓗(M12)>\n",
      "──╰SpecialUnitary(M10)─│────────────────────┤ ├<𝓗(M12)>\n",
      "───────────────────────╰SpecialUnitary(M11)─┤ ╰<𝓗(M12)>\n",
      "\n",
      "M0 = \n",
      "[3.90647795 1.89025592 5.17455679 6.01422213 2.0550742  3.54383787\n",
      " 3.20896622 2.33048616 3.06494283 2.5650305  0.85267584 0.835979\n",
      " 3.13101926 2.67742277 1.0535383 ]\n",
      "M1 = \n",
      "[0.01191898 3.44558947 1.12944984 4.52504001 5.48636262 1.74685627\n",
      " 1.21530367 0.22175742 4.38149761 0.1829567  2.86435414 3.28374035\n",
      " 5.37371396 4.52982872 5.39211626]\n",
      "M2 = \n",
      "[3.0384816  2.16406803 0.57491114 3.74776022 3.44101901 1.6706677\n",
      " 5.00278419 1.07864996 1.84842884 2.92236002 6.20940449 0.62673259\n",
      " 1.15680289 5.92153652 1.43661467]\n",
      "M3 = \n",
      "[0.73852163 5.57520737 5.25790962 3.19070681 3.81346671 4.93421614\n",
      " 0.93948227 1.83384827 6.04756845 4.85514779 3.52830281 0.08146595\n",
      " 1.05109734 1.4742876  1.22233639]\n",
      "M4 = \n",
      "[2.86017136 6.2552655  0.04151467 0.52912599 4.47588604 4.23521403\n",
      " 5.15729554 5.65564261 6.17253544 1.31588807 1.80816614 2.18517194\n",
      " 3.35764531 1.75698226 2.14423933]\n",
      "M5 = \n",
      "[1.14779026 0.56224898 1.3642227  5.9031294  3.10959854 2.9416749\n",
      " 5.35205812 1.52740929 1.88168188 0.02023068 5.69366575 5.92288564\n",
      " 5.77057693 2.1022868  2.4547897 ]\n",
      "M6 = \n",
      "[2.12357681 4.87984338 5.4212385  3.10171103 0.59926752 5.944944\n",
      " 1.85496528 4.30799948 1.02309093 1.37223975 5.4300888  4.55102127\n",
      " 3.94343537 4.58341753 4.03750659]\n",
      "M7 = \n",
      "[0.41421479 4.47863635 2.07409494 3.57379318 2.20014759 2.64272322\n",
      " 4.01813064 5.56275304 4.01852758 2.07979897 3.56969466 1.81264835\n",
      " 5.10166427 0.10258559 2.33513073]\n",
      "M8 = \n",
      "[5.67196139 1.3852639  3.35503564 3.98894354 5.79247889 4.62752225\n",
      " 3.24159672 2.03577794 2.88841924 0.36819439 1.98714708 5.60380251\n",
      " 1.06408153 5.6355621  6.27967292]\n",
      "M9 = \n",
      "[2.20227952 3.77451244 0.43740538 0.45254658 3.62707837 3.33076786\n",
      " 1.08107009 3.9231361  6.19694722 4.33255865 3.11206651 5.74579241\n",
      " 0.79953468 3.79385182 2.17911476]\n",
      "M10 = \n",
      "[0.09183364 2.66734775 1.26944259 2.22116018 1.69898905 6.05325625\n",
      " 3.08605993 3.96951301 3.95117494 1.65746067 4.40564431 4.81721189\n",
      " 3.65991259 0.46747315 0.04602508]\n",
      "M11 = \n",
      "[4.93258428 4.82695622 4.99290898 3.69252805 5.85587858 1.68755685\n",
      " 5.66145336 1.87980231 1.96213787 3.69980632 5.25425315 0.56159079\n",
      " 5.03238366 0.69817196 0.7752211 ]\n",
      "M12 = \n",
      "[[ 667.5+0.j    0. +0.j    0. +0.j ...    0. +0.j    0. +0.j    0. +0.j]\n",
      " [   0. +0.j  376.5+0.j    0. +0.j ...    0. +0.j    0. +0.j    0. +0.j]\n",
      " [   0. +0.j    0. +0.j  255.5+0.j ...    0. +0.j    0. +0.j    0. +0.j]\n",
      " ...\n",
      " [   0. +0.j    0. +0.j    0. +0.j ... -103.5+0.j    0. +0.j    0. +0.j]\n",
      " [   0. +0.j    0. +0.j    0. +0.j ...    0. +0.j  -64.5+0.j    0. +0.j]\n",
      " [   0. +0.j    0. +0.j    0. +0.j ...    0. +0.j    0. +0.j   60.5+0.j]]\n"
     ]
    }
   ],
   "source": [
    "loc = 2\n",
    "d = loc**4 - 1  # d = 15 for two-qubit operations\n",
    "dev = qml.device(\"default.qubit\", wires=num_wires)\n",
    "# two blocks with two layers. Each layer contains three operations with d parameters\n",
    "param_shape = (2, 2, 3, d)\n",
    "# Use np.random.uniform to initialize the parameters randomly within a range [0, 1]\n",
    "init_params = np.random.uniform(low=0.0, high=2 * np.pi, size=param_shape)\n",
    "\n",
    "def circuit(params, operation=None):\n",
    "    \"\"\"Apply an operation in a brickwall-like pattern to a qubit register and measure H.\n",
    "    Parameters are assumed to have the dimensions (number of blocks, number of\n",
    "    wires per operation, number of operations per layer, and number of parameters\n",
    "    per operation), in that order.\n",
    "    \"\"\"\n",
    "    for params_block in params:\n",
    "        for i, params_layer in enumerate(params_block):\n",
    "            for j, params_op in enumerate(params_layer):\n",
    "                wires_op = [w % num_wires for w in range(loc * j + i, loc * (j + 1) + i)]\n",
    "                operation(params_op, wires_op)\n",
    "    return qml.expval(H)\n",
    "\n",
    "\n",
    "qnode = qml.QNode(circuit, dev, interface=\"jax\")\n",
    "print(qml.draw(qnode)(init_params, qml.SpecialUnitary))"
   ]
  },
  {
   "cell_type": "code",
   "execution_count": 42,
   "metadata": {},
   "outputs": [],
   "source": [
    "# for auto-differentiation.\n",
    "\n",
    "learning_rate = 5e-4\n",
    "num_steps = 100\n",
    "init_params = jax.numpy.array(init_params)\n",
    "grad_fn = jax.jit(jax.jacobian(qnode), static_argnums=1)\n",
    "qnode = jax.jit(qnode, static_argnums=1)"
   ]
  },
  {
   "cell_type": "code",
   "execution_count": 43,
   "metadata": {},
   "outputs": [
    {
     "name": "stdout",
     "output_type": "stream",
     "text": [
      "Running the optimization for the decomposition\n",
      "  0 Steps: 8.715871\n",
      " 50 Steps: -110.034348\n",
      "Running the optimization for the PauliRot sequence\n",
      "  0 Steps: -33.717258\n",
      " 50 Steps: -110.873528\n",
      "Running the optimization for the SU(N) gate\n"
     ]
    },
    {
     "name": "stderr",
     "output_type": "stream",
     "text": [
      "c:\\Users\\DELL\\anaconda3\\envs\\qiskit\\Lib\\site-packages\\jax\\_src\\lax\\lax.py:2745: ComplexWarning: Casting complex values to real discards the imaginary part\n",
      "  x_bar = _convert_element_type(x_bar, x.aval.dtype, x.aval.weak_type)\n"
     ]
    },
    {
     "name": "stdout",
     "output_type": "stream",
     "text": [
      "  0 Steps: -14.310249\n",
      " 50 Steps: -109.868523\n",
      "Final eigenstate for Decomposition: -120.52195739746094\n",
      "Final eigenstate for PauliRot sequence: -122.3922348022461\n",
      "Final eigenstate for $\\mathrm{SU}(N)$ gate: -115.8885726928711\n"
     ]
    }
   ],
   "source": [
    "energies = {}\n",
    "eigenstates = {}  # To store the final eigenstates for each operation\n",
    "\n",
    "for (name, print_name), operation in operations.items():\n",
    "    print(f\"Running the optimization for the {print_name}\")\n",
    "    params = init_params.copy()\n",
    "    energy = []\n",
    "    for step in range(num_steps):\n",
    "        cost = qnode(params, operation)\n",
    "        params = params - learning_rate * grad_fn(params, operation)\n",
    "        energy.append(cost)  # Store energy value\n",
    "        if step % 50 == 0:  # Report current energy\n",
    "            print(f\"{step:3d} Steps: {cost:.6f}\")\n",
    "\n",
    "    energy.append(qnode(params, operation))  # Final energy value\n",
    "    energies[name] = energy\n",
    "\n",
    "    # Extract the final eigenstate after optimization\n",
    "    # At this point, `params` should contain the optimized parameters\n",
    "    optimized_state = qnode(params, operation)  # This should return the final quantum state\n",
    "    \n",
    "    # Store the final eigenstate\n",
    "    eigenstates[name] = optimized_state\n",
    "\n",
    "# Optionally, print the final eigenstates for each operation\n",
    "for name, eigenstate in eigenstates.items():\n",
    "    print(f\"Final eigenstate for {name}: {eigenstate}\")"
   ]
  },
  {
   "cell_type": "code",
   "execution_count": 44,
   "metadata": {},
   "outputs": [
    {
     "data": {
      "image/png": "[encoded data removed]",
      "text/plain": [
       "<Figure size 640x480 with 1 Axes>"
      ]
     },
     "metadata": {},
     "output_type": "display_data"
    }
   ],
   "source": [
    "fig, ax = plt.subplots(1, 1)\n",
    "styles = [\":\", \"--\", \"-\"]\n",
    "colors = [\"#70CEFF\", \"#C756B2\", \"#FFE096\"]\n",
    "for (name, energy), c, ls in zip(energies.items(), colors, styles):\n",
    "    error = (energy - E_min) / abs(E_min)\n",
    "    ax.plot(list(range(len(error))), error, label=name, c=c, ls=ls, lw=2.5)\n",
    "\n",
    "ax.set(xlabel=\"Iteration\", ylabel=\"Relative error\")\n",
    "ax.legend()\n",
    "plt.show()"
   ]
  },
  {
   "cell_type": "code",
   "execution_count": null,
   "metadata": {},
   "outputs": [],
   "source": [
    "TwoLocal"
   ]
  }
 ],
 "metadata": {
  "kernelspec": {
   "display_name": "qiskit",
   "language": "python",
   "name": "python3"
  },
  "language_info": {
   "codemirror_mode": {
    "name": "ipython",
    "version": 3
   },
   "file_extension": ".py",
   "mimetype": "text/x-python",
   "name": "python",
   "nbconvert_exporter": "python",
   "pygments_lexer": "ipython3",
   "version": "3.12.2"
  }
 },
 "nbformat": 4,
 "nbformat_minor": 2
}
